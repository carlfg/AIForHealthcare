{
 "cells": [
  {
   "cell_type": "code",
   "execution_count": 1,
   "metadata": {},
   "outputs": [],
   "source": [
    "import numpy as np # linear algebra\n",
    "import pandas as pd # data processing, CSV file I/O (e.g. pd.read_csv)\n",
    "import os\n",
    "from itertools import chain\n",
    "from glob import glob\n",
    "%matplotlib inline\n",
    "import matplotlib.pyplot as plt\n",
    "import seaborn as sns\n",
    "\n",
    "##Import any other packages you may need here\n",
    "from skimage.io import imread, imshow\n",
    "import pydicom"
   ]
  },
  {
   "cell_type": "markdown",
   "metadata": {},
   "source": [
    "EDA is open-ended, and it is up to you to decide how to look at different ways to slice and dice your data. A good starting point is to look at the requirements for the FDA documentation in the final part of this project to guide (some) of the analyses you do. \n",
    "\n",
    "This EDA should also help to inform you of how pneumonia looks in the wild. E.g. what other types of diseases it's commonly found with, how often it is found, what ages it affects, etc. \n",
    "\n",
    "Note that this NIH dataset was not specifically acquired for pneumonia. So, while this is a representation of 'pneumonia in the wild,' the prevalence of pneumonia may be different if you were to take only chest x-rays that were acquired in an ER setting with suspicion of pneumonia. "
   ]
  },
  {
   "cell_type": "markdown",
   "metadata": {},
   "source": [
    "Perform the following EDA:\n",
    "* The patient demographic data such as gender, age, patient position,etc. (as it is available)\n",
    "* The x-ray views taken (i.e. view position)\n",
    "* The number of cases including: \n",
    "    * number of pneumonia cases,\n",
    "    * number of non-pneumonia cases\n",
    "* The distribution of other diseases that are comorbid with pneumonia\n",
    "* Number of disease per patient \n",
    "* Pixel-level assessments of the imaging data for healthy & disease states of interest (e.g. histograms of intensity values) and compare distributions across diseases.\n",
    "\n",
    "Note: use full NIH data to perform the first a few EDA items and use `sample_labels.csv` for the pixel-level assassements. "
   ]
  },
  {
   "cell_type": "markdown",
   "metadata": {},
   "source": [
    "Also, **describe your findings and how will you set up the model training based on the findings.**"
   ]
  },
  {
   "cell_type": "code",
   "execution_count": 2,
   "metadata": {},
   "outputs": [],
   "source": [
    "## Below is some helper code to read data for you.\n",
    "## Load NIH data\n",
    "all_xray_df = pd.read_csv('/data/Data_Entry_2017.csv')\n",
    "#all_xray_df.sample(3)\n",
    "\n",
    "## Load 'sample_labels.csv' data for pixel level assessments\n",
    "sample_df = pd.read_csv('sample_labels.csv')\n",
    "#sample_df.sample(3)"
   ]
  },
  {
   "cell_type": "code",
   "execution_count": 3,
   "metadata": {},
   "outputs": [
    {
     "name": "stdout",
     "output_type": "stream",
     "text": [
      "All Labels (15): ['Atelectasis', 'Cardiomegaly', 'Consolidation', 'Edema', 'Effusion', 'Emphysema', 'Fibrosis', 'Hernia', 'Infiltration', 'Mass', 'No Finding', 'Nodule', 'Pleural_Thickening', 'Pneumonia', 'Pneumothorax']\n"
     ]
    },
    {
     "data": {
      "text/html": [
       "<div>\n",
       "<style scoped>\n",
       "    .dataframe tbody tr th:only-of-type {\n",
       "        vertical-align: middle;\n",
       "    }\n",
       "\n",
       "    .dataframe tbody tr th {\n",
       "        vertical-align: top;\n",
       "    }\n",
       "\n",
       "    .dataframe thead th {\n",
       "        text-align: right;\n",
       "    }\n",
       "</style>\n",
       "<table border=\"1\" class=\"dataframe\">\n",
       "  <thead>\n",
       "    <tr style=\"text-align: right;\">\n",
       "      <th></th>\n",
       "      <th>Image Index</th>\n",
       "      <th>Finding Labels</th>\n",
       "      <th>Follow-up #</th>\n",
       "      <th>Patient ID</th>\n",
       "      <th>Patient Age</th>\n",
       "      <th>Patient Gender</th>\n",
       "      <th>View Position</th>\n",
       "      <th>OriginalImage[Width</th>\n",
       "      <th>Height]</th>\n",
       "      <th>OriginalImagePixelSpacing[x</th>\n",
       "      <th>...</th>\n",
       "      <th>Emphysema</th>\n",
       "      <th>Fibrosis</th>\n",
       "      <th>Hernia</th>\n",
       "      <th>Infiltration</th>\n",
       "      <th>Mass</th>\n",
       "      <th>No Finding</th>\n",
       "      <th>Nodule</th>\n",
       "      <th>Pleural_Thickening</th>\n",
       "      <th>Pneumonia</th>\n",
       "      <th>Pneumothorax</th>\n",
       "    </tr>\n",
       "  </thead>\n",
       "  <tbody>\n",
       "    <tr>\n",
       "      <th>59975</th>\n",
       "      <td>00014806_000.png</td>\n",
       "      <td>No Finding</td>\n",
       "      <td>0</td>\n",
       "      <td>14806</td>\n",
       "      <td>55</td>\n",
       "      <td>F</td>\n",
       "      <td>PA</td>\n",
       "      <td>2810</td>\n",
       "      <td>2991</td>\n",
       "      <td>0.143</td>\n",
       "      <td>...</td>\n",
       "      <td>0.0</td>\n",
       "      <td>0.0</td>\n",
       "      <td>0.0</td>\n",
       "      <td>0.0</td>\n",
       "      <td>0.0</td>\n",
       "      <td>1.0</td>\n",
       "      <td>0.0</td>\n",
       "      <td>0.0</td>\n",
       "      <td>0.0</td>\n",
       "      <td>0.0</td>\n",
       "    </tr>\n",
       "    <tr>\n",
       "      <th>50964</th>\n",
       "      <td>00012880_026.png</td>\n",
       "      <td>No Finding</td>\n",
       "      <td>26</td>\n",
       "      <td>12880</td>\n",
       "      <td>66</td>\n",
       "      <td>M</td>\n",
       "      <td>PA</td>\n",
       "      <td>2754</td>\n",
       "      <td>2769</td>\n",
       "      <td>0.143</td>\n",
       "      <td>...</td>\n",
       "      <td>0.0</td>\n",
       "      <td>0.0</td>\n",
       "      <td>0.0</td>\n",
       "      <td>0.0</td>\n",
       "      <td>0.0</td>\n",
       "      <td>1.0</td>\n",
       "      <td>0.0</td>\n",
       "      <td>0.0</td>\n",
       "      <td>0.0</td>\n",
       "      <td>0.0</td>\n",
       "    </tr>\n",
       "    <tr>\n",
       "      <th>97860</th>\n",
       "      <td>00025828_001.png</td>\n",
       "      <td>No Finding</td>\n",
       "      <td>1</td>\n",
       "      <td>25828</td>\n",
       "      <td>32</td>\n",
       "      <td>F</td>\n",
       "      <td>PA</td>\n",
       "      <td>2992</td>\n",
       "      <td>2991</td>\n",
       "      <td>0.143</td>\n",
       "      <td>...</td>\n",
       "      <td>0.0</td>\n",
       "      <td>0.0</td>\n",
       "      <td>0.0</td>\n",
       "      <td>0.0</td>\n",
       "      <td>0.0</td>\n",
       "      <td>1.0</td>\n",
       "      <td>0.0</td>\n",
       "      <td>0.0</td>\n",
       "      <td>0.0</td>\n",
       "      <td>0.0</td>\n",
       "    </tr>\n",
       "  </tbody>\n",
       "</table>\n",
       "<p>3 rows × 27 columns</p>\n",
       "</div>"
      ],
      "text/plain": [
       "            Image Index Finding Labels  Follow-up #  Patient ID  Patient Age  \\\n",
       "59975  00014806_000.png     No Finding            0       14806           55   \n",
       "50964  00012880_026.png     No Finding           26       12880           66   \n",
       "97860  00025828_001.png     No Finding            1       25828           32   \n",
       "\n",
       "      Patient Gender View Position  OriginalImage[Width  Height]  \\\n",
       "59975              F            PA                 2810     2991   \n",
       "50964              M            PA                 2754     2769   \n",
       "97860              F            PA                 2992     2991   \n",
       "\n",
       "       OriginalImagePixelSpacing[x  ...  Emphysema  Fibrosis  Hernia  \\\n",
       "59975                        0.143  ...        0.0       0.0     0.0   \n",
       "50964                        0.143  ...        0.0       0.0     0.0   \n",
       "97860                        0.143  ...        0.0       0.0     0.0   \n",
       "\n",
       "       Infiltration  Mass  No Finding  Nodule  Pleural_Thickening  Pneumonia  \\\n",
       "59975           0.0   0.0         1.0     0.0                 0.0        0.0   \n",
       "50964           0.0   0.0         1.0     0.0                 0.0        0.0   \n",
       "97860           0.0   0.0         1.0     0.0                 0.0        0.0   \n",
       "\n",
       "       Pneumothorax  \n",
       "59975           0.0  \n",
       "50964           0.0  \n",
       "97860           0.0  \n",
       "\n",
       "[3 rows x 27 columns]"
      ]
     },
     "execution_count": 3,
     "metadata": {},
     "output_type": "execute_result"
    }
   ],
   "source": [
    "all_labels = np.unique(list(chain(*all_xray_df['Finding Labels'].map(lambda x: x.split('|')).tolist())))\n",
    "all_labels = [x for x in all_labels if len(x)>0]\n",
    "print('All Labels ({}): {}'.format(len(all_labels), all_labels))\n",
    "for c_label in all_labels:\n",
    "    if len(c_label)>1: # leave out empty labels\n",
    "        all_xray_df[c_label] = all_xray_df['Finding Labels'].map(lambda finding: 1.0 if c_label in finding else 0)\n",
    "all_xray_df.sample(3)"
   ]
  },
  {
   "cell_type": "markdown",
   "metadata": {},
   "source": [
    "# EDA Analysis"
   ]
  },
  {
   "cell_type": "markdown",
   "metadata": {},
   "source": [
    "There are multiple records in the file associated with each patient. To try and better analyze the data, we'll adjust the data to ensure we're analyzing each patient once for demographics data.\n",
    "\n",
    "all_xray_df[all_xray_df[\"Follow-up #' == 0].sample(3)"
   ]
  },
  {
   "cell_type": "code",
   "execution_count": 4,
   "metadata": {},
   "outputs": [
    {
     "name": "stdout",
     "output_type": "stream",
     "text": [
      "total records:  112120\n",
      "With Follow-up  0  records:  30805 percent:  27.48 %\n",
      "With Follow-up  1  records:  13302 percent:  11.86 %\n",
      "With Follow-up  2  records:  9189 percent:  8.20 %\n",
      "With Follow-up  3  records:  7089 percent:  6.32 %\n",
      "With Follow-up  4  records:  5759 percent:  5.14 %\n",
      "With Follow-up  5  records:  4821 percent:  4.30 %\n",
      "With Follow-up  6  records:  4034 percent:  3.60 %\n",
      "With Follow-up  7  records:  3426 percent:  3.06 %\n",
      "With Follow-up  8  records:  2932 percent:  2.62 %\n",
      "With Follow-up  9  records:  2545 percent:  2.27 %\n",
      "With Follow-up  10  records:  2225 percent:  1.98 %\n",
      "With Follow-up  11  records:  1944 percent:  1.73 %\n",
      "With Follow-up  12  records:  1709 percent:  1.52 %\n",
      "With Follow-up  13  records:  1544 percent:  1.38 %\n",
      "With Follow-up  14  records:  1363 percent:  1.22 %\n",
      "With Follow-up  15  records:  1242 percent:  1.11 %\n",
      "With Follow-up  16  records:  1122 percent:  1.00 %\n",
      "With Follow-up  17  records:  1031 percent:  0.92 %\n",
      "With Follow-up  18  records:  954 percent:  0.85 %\n",
      "With Follow-up  19  records:  877 percent:  0.78 %\n",
      "With Follow-up  20  records:  803 percent:  0.72 %\n",
      "With Follow-up  21  records:  735 percent:  0.66 %\n",
      "With Follow-up  22  records:  696 percent:  0.62 %\n",
      "With Follow-up  23  records:  646 percent:  0.58 %\n",
      "With Follow-up  24  records:  595 percent:  0.53 %\n",
      "With Follow-up  25  records:  550 percent:  0.49 %\n",
      "With Follow-up  26  records:  515 percent:  0.46 %\n",
      "With Follow-up  27  records:  477 percent:  0.43 %\n",
      "With Follow-up  28  records:  450 percent:  0.40 %\n",
      "With Follow-up  29  records:  425 percent:  0.38 %\n",
      "With Follow-up  30  records:  397 percent:  0.35 %\n"
     ]
    }
   ],
   "source": [
    "total = len(all_xray_df)\n",
    "print(\"total records: \", total)\n",
    "\n",
    "for i in range(0,31):\n",
    "    count = len(all_xray_df[all_xray_df['Follow-up #'] == i])\n",
    "    print(\"With Follow-up \", i, \" records: \", count, \"percent: \", '{:.2f}'.format(count * 100 / total), \"%\")"
   ]
  },
  {
   "cell_type": "markdown",
   "metadata": {},
   "source": [
    "A small number of patients in the dataset have had a lot of followups."
   ]
  },
  {
   "cell_type": "code",
   "execution_count": 5,
   "metadata": {},
   "outputs": [],
   "source": [
    "all_xray_unique_df = all_xray_df[all_xray_df['Follow-up #'] == 0]"
   ]
  },
  {
   "cell_type": "markdown",
   "metadata": {},
   "source": [
    "## Patient Gender"
   ]
  },
  {
   "cell_type": "code",
   "execution_count": 6,
   "metadata": {},
   "outputs": [
    {
     "data": {
      "text/plain": [
       "<matplotlib.axes._subplots.AxesSubplot at 0x7fd1c607ed10>"
      ]
     },
     "execution_count": 6,
     "metadata": {},
     "output_type": "execute_result"
    },
    {
     "data": {
      "image/png": "[encoded data removed]",
      "text/plain": [
       "<Figure size 432x432 with 1 Axes>"
      ]
     },
     "metadata": {
      "needs_background": "light"
     },
     "output_type": "display_data"
    }
   ],
   "source": [
    "#First Explore Gender\n",
    "plt.figure(figsize=(6,6))\n",
    "all_xray_unique_df['Patient Gender'].value_counts().plot(kind='bar')"
   ]
  },
  {
   "cell_type": "code",
   "execution_count": 7,
   "metadata": {},
   "outputs": [
    {
     "name": "stdout",
     "output_type": "stream",
     "text": [
      "Male Percentage:  0.54\n",
      "Female Percentage:  0.46\n"
     ]
    }
   ],
   "source": [
    "#len(all_xray_df)\n",
    "print(\"Male Percentage: \", '{:.2f}'.format(len(all_xray_unique_df[all_xray_unique_df['Patient Gender'] == 'M']) / len(all_xray_unique_df)))\n",
    "print(\"Female Percentage: \", '{:.2f}'.format(len(all_xray_unique_df[all_xray_unique_df['Patient Gender'] == 'F']) / len(all_xray_unique_df)))"
   ]
  },
  {
   "cell_type": "markdown",
   "metadata": {},
   "source": [
    "A significant percentage difference between male and female in the database. For the training, we'll need to ensure this is better balanced for training consistency."
   ]
  },
  {
   "cell_type": "markdown",
   "metadata": {},
   "source": [
    "## Analyze Patient Age"
   ]
  },
  {
   "cell_type": "code",
   "execution_count": 8,
   "metadata": {},
   "outputs": [
    {
     "data": {
      "text/plain": [
       "(array([1.2106e+04, 1.8578e+04, 1.1300e+02, 6.0000e+00, 0.0000e+00,\n",
       "        0.0000e+00, 0.0000e+00, 0.0000e+00, 0.0000e+00, 2.0000e+00]),\n",
       " array([  1. ,  42.1,  83.2, 124.3, 165.4, 206.5, 247.6, 288.7, 329.8,\n",
       "        370.9, 412. ]),\n",
       " <a list of 10 Patch objects>)"
      ]
     },
     "execution_count": 8,
     "metadata": {},
     "output_type": "execute_result"
    },
    {
     "data": {
      "image/png": "[encoded data removed]",
      "text/plain": [
       "<Figure size 720x432 with 1 Axes>"
      ]
     },
     "metadata": {
      "needs_background": "light"
     },
     "output_type": "display_data"
    }
   ],
   "source": [
    "plt.figure(figsize=(10,6))\n",
    "plt.hist(all_xray_unique_df['Patient Age'])"
   ]
  },
  {
   "cell_type": "markdown",
   "metadata": {},
   "source": [
    "Looks to be a bad data element. Let's find it and remove it from consideration."
   ]
  },
  {
   "cell_type": "code",
   "execution_count": 9,
   "metadata": {},
   "outputs": [
    {
     "name": "stdout",
     "output_type": "stream",
     "text": [
      "Max age in data set:  412\n",
      "Count of ages above 130:  8\n"
     ]
    },
    {
     "data": {
      "text/plain": [
       "20852     412\n",
       "55742     148\n",
       "62929     149\n",
       "78795     151\n",
       "91369     412\n",
       "95794     153\n",
       "101194    155\n",
       "104590    155\n",
       "Name: Patient Age, dtype: int64"
      ]
     },
     "execution_count": 9,
     "metadata": {},
     "output_type": "execute_result"
    }
   ],
   "source": [
    "print(\"Max age in data set: \", all_xray_unique_df['Patient Age'].max())\n",
    "print(\"Count of ages above 130: \", len(all_xray_unique_df[all_xray_unique_df['Patient Age'] > 130]))\n",
    "all_xray_unique_df[all_xray_unique_df['Patient Age'] > 130]['Patient Age']"
   ]
  },
  {
   "cell_type": "markdown",
   "metadata": {},
   "source": [
    "When creating the testing and validation data sets, the patients with bad age data needs to be removed from consideration."
   ]
  },
  {
   "cell_type": "code",
   "execution_count": 10,
   "metadata": {},
   "outputs": [
    {
     "data": {
      "text/plain": [
       "(array([ 666., 1283., 3652., 4325., 5329., 7278., 5111., 2514.,  577.,\n",
       "          62.]),\n",
       " array([ 1. , 10.4, 19.8, 29.2, 38.6, 48. , 57.4, 66.8, 76.2, 85.6, 95. ]),\n",
       " <a list of 10 Patch objects>)"
      ]
     },
     "execution_count": 10,
     "metadata": {},
     "output_type": "execute_result"
    },
    {
     "data": {
      "image/png": "[encoded data removed]",
      "text/plain": [
       "<Figure size 720x432 with 1 Axes>"
      ]
     },
     "metadata": {
      "needs_background": "light"
     },
     "output_type": "display_data"
    }
   ],
   "source": [
    "plt.figure(figsize=(10,6))\n",
    "plt.hist(all_xray_unique_df[all_xray_unique_df['Patient Age'] < 130]['Patient Age'])"
   ]
  },
  {
   "cell_type": "markdown",
   "metadata": {},
   "source": [
    "The majority of the data is between the ages of 20 and 80. We could stretch the data to 10 because we have about 1000 patients down to 10 years old whichs is the same amount of data at 80."
   ]
  },
  {
   "cell_type": "markdown",
   "metadata": {},
   "source": [
    "## Analyze View Position\n",
    "\n",
    "PA and AP are significantly different in proportions for different parts of the x-ray. Most notably the heart as referenced here:\n",
    "Chest X-Ray : https://www.radiologymasterclass.co.uk/tutorials/chest/chest_quality/chest_xray_quality_projection\n"
   ]
  },
  {
   "cell_type": "code",
   "execution_count": 11,
   "metadata": {},
   "outputs": [
    {
     "data": {
      "text/plain": [
       "<matplotlib.axes._subplots.AxesSubplot at 0x7fd19aa2a910>"
      ]
     },
     "execution_count": 11,
     "metadata": {},
     "output_type": "execute_result"
    },
    {
     "data": {
      "image/png": "[encoded data removed]",
      "text/plain": [
       "<Figure size 1152x432 with 1 Axes>"
      ]
     },
     "metadata": {
      "needs_background": "light"
     },
     "output_type": "display_data"
    },
    {
     "data": {
      "image/png": "[encoded data removed]",
      "text/plain": [
       "<Figure size 1152x432 with 1 Axes>"
      ]
     },
     "metadata": {
      "needs_background": "light"
     },
     "output_type": "display_data"
    }
   ],
   "source": [
    "# The patient demographic data such as patient position,etc. (as it is available) \n",
    "\n",
    "# We should evaluate the entire set of data and then specifically just the first x-ray for the unique patients.\n",
    "\n",
    "plt.figure(figsize=(16,6))\n",
    "all_xray_df['View Position'].value_counts()[0:30].plot(kind='bar')\n",
    "\n",
    "plt.figure(figsize=(16,6))\n",
    "all_xray_unique_df['View Position'].value_counts()[0:30].plot(kind='bar')"
   ]
  },
  {
   "cell_type": "markdown",
   "metadata": {},
   "source": [
    "The total data base a significant number of AP images. However the first image for people with no followup is highly skewed to the PA view position. We need to consider if we will support AP and PA images or just PA evaluation. This comes down to if we're trying to provide a scanning algorithm or a diagnostic algorithm. Will check if there is a signifcant difference in pneumonia diagnosis between PA and AP view positions."
   ]
  },
  {
   "cell_type": "code",
   "execution_count": 12,
   "metadata": {},
   "outputs": [
    {
     "data": {
      "text/plain": [
       "<matplotlib.axes._subplots.AxesSubplot at 0x7fd19aa23a10>"
      ]
     },
     "execution_count": 12,
     "metadata": {},
     "output_type": "execute_result"
    },
    {
     "data": {
      "image/png": "[encoded data removed]",
      "text/plain": [
       "<Figure size 1152x432 with 1 Axes>"
      ]
     },
     "metadata": {
      "needs_background": "light"
     },
     "output_type": "display_data"
    }
   ],
   "source": [
    "plt.figure(figsize=(16,6))\n",
    "all_xray_df[all_xray_df.Pneumonia==1]['View Position'].value_counts()[0:30].plot(kind='bar')"
   ]
  },
  {
   "cell_type": "markdown",
   "metadata": {},
   "source": [
    "## Number of Cases Analysis\n",
    "\n",
    "The number of cases including:\n",
    "  number of pneumonia cases,\n",
    "  number of non-pneumonia cases\n",
    "  \n",
    "We'll explore the entire data set."
   ]
  },
  {
   "cell_type": "code",
   "execution_count": 13,
   "metadata": {},
   "outputs": [
    {
     "data": {
      "text/plain": [
       "15"
      ]
     },
     "execution_count": 13,
     "metadata": {},
     "output_type": "execute_result"
    }
   ],
   "source": [
    "len(all_labels)"
   ]
  },
  {
   "cell_type": "markdown",
   "metadata": {},
   "source": [
    "There are 15 different labels in the data set."
   ]
  },
  {
   "cell_type": "code",
   "execution_count": 14,
   "metadata": {},
   "outputs": [
    {
     "name": "stdout",
     "output_type": "stream",
     "text": [
      "total_pneumonia:  1431\n",
      "total_non_pneumonia:  110689\n",
      "\n",
      "Atelectasis          10.31%\n",
      "Cardiomegaly          2.48%\n",
      "Consolidation         4.16%\n",
      "Edema                 2.05%\n",
      "Effusion             11.88%\n",
      "Emphysema             2.24%\n",
      "Fibrosis              1.50%\n",
      "Hernia                0.20%\n",
      "Infiltration         17.74%\n",
      "Mass                  5.16%\n",
      "No Finding           53.84%\n",
      "Nodule                5.65%\n",
      "Pleural_Thickening    3.02%\n",
      "Pneumonia             1.28%\n",
      "Pneumothorax          4.73%\n",
      "dtype: float64\n"
     ]
    }
   ],
   "source": [
    "total_pneumonia = len(all_xray_df[(all_xray_df.Pneumonia==1)])\n",
    "print('total_pneumonia: ', total_pneumonia)\n",
    "print('total_non_pneumonia: ', len(all_xray_df[(all_xray_df.Pneumonia==0)]))\n",
    "print('')\n",
    "\n",
    "label_percents = all_xray_df[all_labels].sum()/len(all_xray_df) * 100\n",
    "pd.options.display.float_format = '{:,.2f}%'.format\n",
    "print(label_percents)"
   ]
  },
  {
   "cell_type": "markdown",
   "metadata": {},
   "source": [
    "The breakout by percentage is above."
   ]
  },
  {
   "cell_type": "code",
   "execution_count": 15,
   "metadata": {},
   "outputs": [
    {
     "data": {
      "text/plain": [
       "[Text(0, 0.5, 'Number of Images with Label')]"
      ]
     },
     "execution_count": 15,
     "metadata": {},
     "output_type": "execute_result"
    },
    {
     "data": {
      "image/png": "[encoded data removed]",
      "text/plain": [
       "<Figure size 432x288 with 1 Axes>"
      ]
     },
     "metadata": {
      "needs_background": "light"
     },
     "output_type": "display_data"
    }
   ],
   "source": [
    "# number of pneumonia cases and non-pneumonia cases\n",
    "\n",
    "ax = all_xray_df[all_labels].sum().plot(kind='bar')\n",
    "ax.set(ylabel = 'Number of Images with Label')"
   ]
  },
  {
   "cell_type": "markdown",
   "metadata": {},
   "source": [
    "The most frequently occuring result is 'No Finding' at 53.84% occurance. So that percentage of the database would have no other label associated. Beyond that the most common labels are: Infiltration (17.74%), Effusion (11.88%), and Atelectasis (10.31%). Pnemonia which is what we eventually want to detect only labeled in 1.28% of images.         \n",
    "\n",
    "Next we'll see if Pnemonia has any common comorbid relations."
   ]
  },
  {
   "cell_type": "code",
   "execution_count": 16,
   "metadata": {},
   "outputs": [
    {
     "data": {
      "text/plain": [
       "<matplotlib.axes._subplots.AxesSubplot at 0x7fd19a9cef50>"
      ]
     },
     "execution_count": 16,
     "metadata": {},
     "output_type": "execute_result"
    },
    {
     "data": {
      "image/png": "[encoded data removed]",
      "text/plain": [
       "<Figure size 1152x432 with 1 Axes>"
      ]
     },
     "metadata": {
      "needs_background": "light"
     },
     "output_type": "display_data"
    }
   ],
   "source": [
    "##Since there are many combinations of potential findings, I'm going to look at the 30 most common comorbid relations:\n",
    "plt.figure(figsize=(16,6))\n",
    "all_xray_df[all_xray_df.Pneumonia==1]['Finding Labels'].value_counts()[0:30].plot(kind='bar')"
   ]
  },
  {
   "cell_type": "markdown",
   "metadata": {},
   "source": [
    "There is a lot of comorbid here with Pneumonia. Let's see if we can determine how often the other labels occur if there is also a Penumonia assessment."
   ]
  },
  {
   "cell_type": "code",
   "execution_count": 17,
   "metadata": {},
   "outputs": [
    {
     "data": {
      "text/plain": [
       "Pneumonia                                          322\n",
       "Infiltration|Pneumonia                             199\n",
       "Edema|Infiltration|Pneumonia                       137\n",
       "Atelectasis|Pneumonia                              108\n",
       "Edema|Pneumonia                                     83\n",
       "Effusion|Pneumonia                                  54\n",
       "Effusion|Infiltration|Pneumonia                     42\n",
       "Consolidation|Pneumonia                             36\n",
       "Atelectasis|Infiltration|Pneumonia                  34\n",
       "Atelectasis|Effusion|Pneumonia                      23\n",
       "Edema|Effusion|Infiltration|Pneumonia               21\n",
       "Nodule|Pneumonia                                    19\n",
       "Edema|Effusion|Pneumonia                            19\n",
       "Atelectasis|Effusion|Infiltration|Pneumonia         18\n",
       "Atelectasis|Consolidation|Pneumonia                 15\n",
       "Consolidation|Infiltration|Pneumonia                13\n",
       "Pleural_Thickening|Pneumonia                        11\n",
       "Mass|Pneumonia                                      11\n",
       "Infiltration|Nodule|Pneumonia                       11\n",
       "Infiltration|Mass|Pneumonia                          8\n",
       "Cardiomegaly|Pneumonia                               8\n",
       "Consolidation|Effusion|Pneumonia                     8\n",
       "Cardiomegaly|Effusion|Pneumonia                      7\n",
       "Atelectasis|Edema|Infiltration|Pneumonia             6\n",
       "Edema|Infiltration|Pleural_Thickening|Pneumonia      6\n",
       "Edema|Infiltration|Mass|Pneumonia                    6\n",
       "Emphysema|Pneumonia                                  5\n",
       "Atelectasis|Nodule|Pneumonia                         5\n",
       "Fibrosis|Pneumonia                                   5\n",
       "Consolidation|Effusion|Infiltration|Pneumonia        5\n",
       "Name: Finding Labels, dtype: int64"
      ]
     },
     "execution_count": 17,
     "metadata": {},
     "output_type": "execute_result"
    }
   ],
   "source": [
    "all_xray_df[all_xray_df.Pneumonia==1]['Finding Labels'].value_counts()[0:30]"
   ]
  },
  {
   "cell_type": "code",
   "execution_count": 18,
   "metadata": {},
   "outputs": [],
   "source": [
    "total_only_pneumonia = all_xray_df[all_xray_df.Pneumonia==1]['Finding Labels'].value_counts()[0:30]['Pneumonia']"
   ]
  },
  {
   "cell_type": "code",
   "execution_count": 19,
   "metadata": {},
   "outputs": [
    {
     "data": {
      "text/plain": [
       "Pneumonia                                         22.50%\n",
       "Infiltration|Pneumonia                            13.91%\n",
       "Edema|Infiltration|Pneumonia                       9.57%\n",
       "Atelectasis|Pneumonia                              7.55%\n",
       "Edema|Pneumonia                                    5.80%\n",
       "Effusion|Pneumonia                                 3.77%\n",
       "Effusion|Infiltration|Pneumonia                    2.94%\n",
       "Consolidation|Pneumonia                            2.52%\n",
       "Atelectasis|Infiltration|Pneumonia                 2.38%\n",
       "Atelectasis|Effusion|Pneumonia                     1.61%\n",
       "Edema|Effusion|Infiltration|Pneumonia              1.47%\n",
       "Nodule|Pneumonia                                   1.33%\n",
       "Edema|Effusion|Pneumonia                           1.33%\n",
       "Atelectasis|Effusion|Infiltration|Pneumonia        1.26%\n",
       "Atelectasis|Consolidation|Pneumonia                1.05%\n",
       "Consolidation|Infiltration|Pneumonia               0.91%\n",
       "Pleural_Thickening|Pneumonia                       0.77%\n",
       "Mass|Pneumonia                                     0.77%\n",
       "Infiltration|Nodule|Pneumonia                      0.77%\n",
       "Infiltration|Mass|Pneumonia                        0.56%\n",
       "Cardiomegaly|Pneumonia                             0.56%\n",
       "Consolidation|Effusion|Pneumonia                   0.56%\n",
       "Cardiomegaly|Effusion|Pneumonia                    0.49%\n",
       "Atelectasis|Edema|Infiltration|Pneumonia           0.42%\n",
       "Edema|Infiltration|Pleural_Thickening|Pneumonia    0.42%\n",
       "Edema|Infiltration|Mass|Pneumonia                  0.42%\n",
       "Emphysema|Pneumonia                                0.35%\n",
       "Atelectasis|Nodule|Pneumonia                       0.35%\n",
       "Fibrosis|Pneumonia                                 0.35%\n",
       "Consolidation|Effusion|Infiltration|Pneumonia      0.35%\n",
       "Name: Finding Labels, dtype: float64"
      ]
     },
     "execution_count": 19,
     "metadata": {},
     "output_type": "execute_result"
    }
   ],
   "source": [
    "all_xray_df[all_xray_df.Pneumonia==1]['Finding Labels'].value_counts()[0:30] / total_pneumonia * 100"
   ]
  },
  {
   "cell_type": "markdown",
   "metadata": {},
   "source": [
    "For all pneumonia cases Inflitration and Pneumonia occur 61.80% of the time. However there are also other label combinations that include Inflitration as well. It is clear that for Pneumonia there are very often other findings. "
   ]
  },
  {
   "cell_type": "code",
   "execution_count": 20,
   "metadata": {},
   "outputs": [
    {
     "data": {
      "text/plain": [
       "'22.50%'"
      ]
     },
     "execution_count": 20,
     "metadata": {},
     "output_type": "execute_result"
    }
   ],
   "source": [
    "'{:,.2f}%'.format(total_only_pneumonia / total_pneumonia * 100)"
   ]
  },
  {
   "cell_type": "markdown",
   "metadata": {},
   "source": [
    "Only 22.50% of cases are pneumonia and no other finding."
   ]
  },
  {
   "cell_type": "code",
   "execution_count": 21,
   "metadata": {},
   "outputs": [
    {
     "data": {
      "text/html": [
       "<div>\n",
       "<style scoped>\n",
       "    .dataframe tbody tr th:only-of-type {\n",
       "        vertical-align: middle;\n",
       "    }\n",
       "\n",
       "    .dataframe tbody tr th {\n",
       "        vertical-align: top;\n",
       "    }\n",
       "\n",
       "    .dataframe thead th {\n",
       "        text-align: right;\n",
       "    }\n",
       "</style>\n",
       "<table border=\"1\" class=\"dataframe\">\n",
       "  <thead>\n",
       "    <tr style=\"text-align: right;\">\n",
       "      <th></th>\n",
       "      <th>Label</th>\n",
       "      <th>With Pneumonia</th>\n",
       "    </tr>\n",
       "  </thead>\n",
       "  <tbody>\n",
       "    <tr>\n",
       "      <th>13</th>\n",
       "      <td>Pneumonia</td>\n",
       "      <td>100.00%</td>\n",
       "    </tr>\n",
       "    <tr>\n",
       "      <th>8</th>\n",
       "      <td>Infiltration</td>\n",
       "      <td>42.28%</td>\n",
       "    </tr>\n",
       "    <tr>\n",
       "      <th>3</th>\n",
       "      <td>Edema</td>\n",
       "      <td>23.76%</td>\n",
       "    </tr>\n",
       "    <tr>\n",
       "      <th>4</th>\n",
       "      <td>Effusion</td>\n",
       "      <td>18.80%</td>\n",
       "    </tr>\n",
       "    <tr>\n",
       "      <th>0</th>\n",
       "      <td>Atelectasis</td>\n",
       "      <td>18.31%</td>\n",
       "    </tr>\n",
       "    <tr>\n",
       "      <th>2</th>\n",
       "      <td>Consolidation</td>\n",
       "      <td>8.60%</td>\n",
       "    </tr>\n",
       "    <tr>\n",
       "      <th>9</th>\n",
       "      <td>Mass</td>\n",
       "      <td>4.96%</td>\n",
       "    </tr>\n",
       "    <tr>\n",
       "      <th>11</th>\n",
       "      <td>Nodule</td>\n",
       "      <td>4.89%</td>\n",
       "    </tr>\n",
       "    <tr>\n",
       "      <th>12</th>\n",
       "      <td>Pleural_Thickening</td>\n",
       "      <td>3.35%</td>\n",
       "    </tr>\n",
       "    <tr>\n",
       "      <th>1</th>\n",
       "      <td>Cardiomegaly</td>\n",
       "      <td>2.87%</td>\n",
       "    </tr>\n",
       "    <tr>\n",
       "      <th>14</th>\n",
       "      <td>Pneumothorax</td>\n",
       "      <td>2.87%</td>\n",
       "    </tr>\n",
       "    <tr>\n",
       "      <th>5</th>\n",
       "      <td>Emphysema</td>\n",
       "      <td>1.61%</td>\n",
       "    </tr>\n",
       "    <tr>\n",
       "      <th>6</th>\n",
       "      <td>Fibrosis</td>\n",
       "      <td>0.77%</td>\n",
       "    </tr>\n",
       "    <tr>\n",
       "      <th>7</th>\n",
       "      <td>Hernia</td>\n",
       "      <td>0.21%</td>\n",
       "    </tr>\n",
       "    <tr>\n",
       "      <th>10</th>\n",
       "      <td>No Finding</td>\n",
       "      <td>0.00%</td>\n",
       "    </tr>\n",
       "  </tbody>\n",
       "</table>\n",
       "</div>"
      ],
      "text/plain": [
       "                 Label  With Pneumonia\n",
       "13           Pneumonia         100.00%\n",
       "8         Infiltration          42.28%\n",
       "3                Edema          23.76%\n",
       "4             Effusion          18.80%\n",
       "0          Atelectasis          18.31%\n",
       "2        Consolidation           8.60%\n",
       "9                 Mass           4.96%\n",
       "11              Nodule           4.89%\n",
       "12  Pleural_Thickening           3.35%\n",
       "1         Cardiomegaly           2.87%\n",
       "14        Pneumothorax           2.87%\n",
       "5            Emphysema           1.61%\n",
       "6             Fibrosis           0.77%\n",
       "7               Hernia           0.21%\n",
       "10          No Finding           0.00%"
      ]
     },
     "execution_count": 21,
     "metadata": {},
     "output_type": "execute_result"
    }
   ],
   "source": [
    "co_occ = pd.DataFrame(columns=['Label', 'With Pneumonia'])\n",
    "\n",
    "for c_label in all_labels:\n",
    "    if len(c_label)>1: # leave out empty labels\n",
    "        #print(c_label, '{:,.2f}%'.format(len(all_xray_df[(all_xray_df.Pneumonia==1) & (all_xray_df[c_label]==1)]) / total_pneumonia * 100))\n",
    "        co_occ = co_occ.append({'Label': c_label, 'With Pneumonia': len(all_xray_df[(all_xray_df.Pneumonia==1) & (all_xray_df[c_label]==1)]) / total_pneumonia * 100 }, ignore_index=True)\n",
    "\n",
    "co_occ.sort_values(by='With Pneumonia', ascending=False)"
   ]
  },
  {
   "cell_type": "markdown",
   "metadata": {},
   "source": [
    "Pneumonia cases have high occurances of Inflitration (42.28%), Edema (23.76%), Effusion (18.80%), and Atelectasis (18.31%)."
   ]
  },
  {
   "cell_type": "markdown",
   "metadata": {},
   "source": [
    "## Number of disease per patient"
   ]
  },
  {
   "cell_type": "code",
   "execution_count": 22,
   "metadata": {},
   "outputs": [
    {
     "data": {
      "text/plain": [
       "0     16403\n",
       "1      6742\n",
       "2      2908\n",
       "3      1638\n",
       "4      1087\n",
       "5       707\n",
       "6       518\n",
       "7       335\n",
       "8       205\n",
       "9       139\n",
       "10       84\n",
       "11       28\n",
       "12        7\n",
       "13        4\n",
       "Name: count, dtype: int64"
      ]
     },
     "execution_count": 22,
     "metadata": {},
     "output_type": "execute_result"
    }
   ],
   "source": [
    "pd.options.display.float_format = '{:,.0f}'.format\n",
    "pre_grouped = all_xray_df[['Patient ID', 'Atelectasis', 'Cardiomegaly', 'Consolidation', 'Edema', 'Effusion', 'Emphysema', 'Fibrosis', 'Hernia', 'Infiltration', 'Mass', 'No Finding', 'Nodule', 'Pleural_Thickening', 'Pneumonia', 'Pneumothorax']]\n",
    "grouped = pre_grouped.groupby(['Patient ID'])\n",
    "\n",
    "grouped = grouped.sum()\n",
    "grouped['count'] = 0\n",
    "\n",
    "for c_label in all_labels:\n",
    "    if len(c_label)>1 and c_label != 'No Finding': # le#ave out empty labels\n",
    "        grouped['count'] += np.where(grouped[c_label] > 0, 1, 0)\n",
    "    \n",
    "disease_counts = grouped.filter(items=['Patient ID', 'count'])\n",
    "disease_counts['count'].value_counts()"
   ]
  },
  {
   "cell_type": "code",
   "execution_count": 23,
   "metadata": {},
   "outputs": [
    {
     "data": {
      "text/plain": [
       "<matplotlib.axes._subplots.AxesSubplot at 0x7fd19a986390>"
      ]
     },
     "execution_count": 23,
     "metadata": {},
     "output_type": "execute_result"
    },
    {
     "data": {
      "image/png": "[encoded data removed]",
      "text/plain": [
       "<Figure size 1152x432 with 1 Axes>"
      ]
     },
     "metadata": {
      "needs_background": "light"
     },
     "output_type": "display_data"
    }
   ],
   "source": [
    "plt.figure(figsize=(16,6))\n",
    "disease_counts['count'].value_counts()[0:30].plot(kind='bar')"
   ]
  },
  {
   "cell_type": "markdown",
   "metadata": {},
   "source": [
    "We can see in the graph an exponential drop off with the number of diseases for patients. "
   ]
  },
  {
   "cell_type": "markdown",
   "metadata": {},
   "source": [
    "## Pixel-level assessment"
   ]
  },
  {
   "cell_type": "markdown",
   "metadata": {},
   "source": [
    "Let's determine the mean and standard deviation across all the images for each of the conditions.\n",
    "For this we'll use the sample data which is only 5605 images."
   ]
  },
  {
   "cell_type": "code",
   "execution_count": 24,
   "metadata": {},
   "outputs": [
    {
     "data": {
      "text/plain": [
       "5606"
      ]
     },
     "execution_count": 24,
     "metadata": {},
     "output_type": "execute_result"
    }
   ],
   "source": [
    "len(sample_df)"
   ]
  },
  {
   "cell_type": "code",
   "execution_count": 25,
   "metadata": {},
   "outputs": [
    {
     "name": "stdout",
     "output_type": "stream",
     "text": [
      "All Labels (15): ['Atelectasis', 'Cardiomegaly', 'Consolidation', 'Edema', 'Effusion', 'Emphysema', 'Fibrosis', 'Hernia', 'Infiltration', 'Mass', 'No Finding', 'Nodule', 'Pleural_Thickening', 'Pneumonia', 'Pneumothorax']\n"
     ]
    }
   ],
   "source": [
    "all_sample_labels = np.unique(list(chain(*sample_df['Finding Labels'].map(lambda x: x.split('|')).tolist())))\n",
    "all_sample_labels = [x for x in all_sample_labels if len(x)>0]\n",
    "print('All Labels ({}): {}'.format(len(all_sample_labels), all_sample_labels))\n",
    "for c_label in all_sample_labels:\n",
    "    if len(c_label)>1: # leave out empty labels\n",
    "        sample_df[c_label] = sample_df['Finding Labels'].map(lambda finding: 1.0 if c_label in finding else 0)"
   ]
  },
  {
   "cell_type": "markdown",
   "metadata": {},
   "source": [
    "Mapping the path into the sample data set so each image can be retrieved and analyzed."
   ]
  },
  {
   "cell_type": "code",
   "execution_count": 26,
   "metadata": {},
   "outputs": [
    {
     "name": "stdout",
     "output_type": "stream",
     "text": [
      "Scans found: 112120 , Total Headers 112120\n"
     ]
    },
    {
     "data": {
      "text/html": [
       "<div>\n",
       "<style scoped>\n",
       "    .dataframe tbody tr th:only-of-type {\n",
       "        vertical-align: middle;\n",
       "    }\n",
       "\n",
       "    .dataframe tbody tr th {\n",
       "        vertical-align: top;\n",
       "    }\n",
       "\n",
       "    .dataframe thead th {\n",
       "        text-align: right;\n",
       "    }\n",
       "</style>\n",
       "<table border=\"1\" class=\"dataframe\">\n",
       "  <thead>\n",
       "    <tr style=\"text-align: right;\">\n",
       "      <th></th>\n",
       "      <th>Image Index</th>\n",
       "      <th>Finding Labels</th>\n",
       "      <th>Follow-up #</th>\n",
       "      <th>Patient ID</th>\n",
       "      <th>Patient Age</th>\n",
       "      <th>Patient Gender</th>\n",
       "      <th>View Position</th>\n",
       "      <th>OriginalImageWidth</th>\n",
       "      <th>OriginalImageHeight</th>\n",
       "      <th>OriginalImagePixelSpacing_x</th>\n",
       "      <th>...</th>\n",
       "      <th>Fibrosis</th>\n",
       "      <th>Hernia</th>\n",
       "      <th>Infiltration</th>\n",
       "      <th>Mass</th>\n",
       "      <th>No Finding</th>\n",
       "      <th>Nodule</th>\n",
       "      <th>Pleural_Thickening</th>\n",
       "      <th>Pneumonia</th>\n",
       "      <th>Pneumothorax</th>\n",
       "      <th>path</th>\n",
       "    </tr>\n",
       "  </thead>\n",
       "  <tbody>\n",
       "    <tr>\n",
       "      <th>2103</th>\n",
       "      <td>00010815_021.png</td>\n",
       "      <td>Nodule</td>\n",
       "      <td>21</td>\n",
       "      <td>10815</td>\n",
       "      <td>067Y</td>\n",
       "      <td>M</td>\n",
       "      <td>PA</td>\n",
       "      <td>2500</td>\n",
       "      <td>2048</td>\n",
       "      <td>0</td>\n",
       "      <td>...</td>\n",
       "      <td>0</td>\n",
       "      <td>0</td>\n",
       "      <td>0</td>\n",
       "      <td>0</td>\n",
       "      <td>0</td>\n",
       "      <td>1</td>\n",
       "      <td>0</td>\n",
       "      <td>0</td>\n",
       "      <td>0</td>\n",
       "      <td>/data/images_005/images/00010815_021.png</td>\n",
       "    </tr>\n",
       "    <tr>\n",
       "      <th>817</th>\n",
       "      <td>00004338_002.png</td>\n",
       "      <td>Edema</td>\n",
       "      <td>2</td>\n",
       "      <td>4338</td>\n",
       "      <td>050Y</td>\n",
       "      <td>M</td>\n",
       "      <td>AP</td>\n",
       "      <td>2500</td>\n",
       "      <td>2048</td>\n",
       "      <td>0</td>\n",
       "      <td>...</td>\n",
       "      <td>0</td>\n",
       "      <td>0</td>\n",
       "      <td>0</td>\n",
       "      <td>0</td>\n",
       "      <td>0</td>\n",
       "      <td>0</td>\n",
       "      <td>0</td>\n",
       "      <td>0</td>\n",
       "      <td>0</td>\n",
       "      <td>/data/images_003/images/00004338_002.png</td>\n",
       "    </tr>\n",
       "    <tr>\n",
       "      <th>3011</th>\n",
       "      <td>00014794_000.png</td>\n",
       "      <td>No Finding</td>\n",
       "      <td>0</td>\n",
       "      <td>14794</td>\n",
       "      <td>057Y</td>\n",
       "      <td>F</td>\n",
       "      <td>PA</td>\n",
       "      <td>2410</td>\n",
       "      <td>2991</td>\n",
       "      <td>0</td>\n",
       "      <td>...</td>\n",
       "      <td>0</td>\n",
       "      <td>0</td>\n",
       "      <td>0</td>\n",
       "      <td>0</td>\n",
       "      <td>1</td>\n",
       "      <td>0</td>\n",
       "      <td>0</td>\n",
       "      <td>0</td>\n",
       "      <td>0</td>\n",
       "      <td>/data/images_007/images/00014794_000.png</td>\n",
       "    </tr>\n",
       "  </tbody>\n",
       "</table>\n",
       "<p>3 rows × 27 columns</p>\n",
       "</div>"
      ],
      "text/plain": [
       "           Image Index Finding Labels  Follow-up #  Patient ID Patient Age  \\\n",
       "2103  00010815_021.png         Nodule           21       10815        067Y   \n",
       "817   00004338_002.png          Edema            2        4338        050Y   \n",
       "3011  00014794_000.png     No Finding            0       14794        057Y   \n",
       "\n",
       "     Patient Gender View Position  OriginalImageWidth  OriginalImageHeight  \\\n",
       "2103              M            PA                2500                 2048   \n",
       "817               M            AP                2500                 2048   \n",
       "3011              F            PA                2410                 2991   \n",
       "\n",
       "      OriginalImagePixelSpacing_x  ...  Fibrosis  Hernia  Infiltration  Mass  \\\n",
       "2103                            0  ...         0       0             0     0   \n",
       "817                             0  ...         0       0             0     0   \n",
       "3011                            0  ...         0       0             0     0   \n",
       "\n",
       "      No Finding  Nodule  Pleural_Thickening  Pneumonia  Pneumothorax  \\\n",
       "2103           0       1                   0          0             0   \n",
       "817            0       0                   0          0             0   \n",
       "3011           1       0                   0          0             0   \n",
       "\n",
       "                                          path  \n",
       "2103  /data/images_005/images/00010815_021.png  \n",
       "817   /data/images_003/images/00004338_002.png  \n",
       "3011  /data/images_007/images/00014794_000.png  \n",
       "\n",
       "[3 rows x 27 columns]"
      ]
     },
     "execution_count": 26,
     "metadata": {},
     "output_type": "execute_result"
    }
   ],
   "source": [
    "all_image_paths = {os.path.basename(x): x for x in \n",
    "                   glob(os.path.join('/data','images*', '*', '*.png'))}\n",
    "print('Scans found:', len(all_image_paths), ', Total Headers', all_xray_df.shape[0])\n",
    "sample_df['path'] = sample_df['Image Index'].map(all_image_paths.get)\n",
    "sample_df.sample(3)"
   ]
  },
  {
   "cell_type": "markdown",
   "metadata": {},
   "source": [
    "Developed the below function to retrieve all the images from a given dataframe and average them together. This winds up creating a histomgram that matches the standard deviation histogram.\n",
    "\n",
    "There were images that were taken using RGBa. To process them, given RGB were all the same and the a channel was opaque, reducing the images to a signle intensity channel allowed adding the images to the processing."
   ]
  },
  {
   "cell_type": "code",
   "execution_count": 50,
   "metadata": {},
   "outputs": [],
   "source": [
    "def show_disease_intensity_charts(c_label):\n",
    "\n",
    "    if (len(c_label) > 0):\n",
    "        sample_disease_df = sample_df.where(sample_df[c_label] == 1.0).dropna()\n",
    "    else:\n",
    "        sample_disease_df = sample_df\n",
    "\n",
    "    all_img = np.zeros((1024,1024))\n",
    "    count = 0\n",
    "\n",
    "    for index, row in sample_disease_df.iterrows():\n",
    "        img = imread(row['path'])\n",
    "        if len(np.shape(img)) > 2:\n",
    "            img = img[:,:,0]               # reduce back to (1024,1024) image    \n",
    "        all_img = np.add(all_img, img)\n",
    "        count += 1\n",
    "\n",
    "    print('Total Images: ', count)\n",
    "\n",
    "    all_avg_img = all_img / count    \n",
    "    \n",
    "    plt.figure(figsize=(5,5))\n",
    "    plt.hist(all_avg_img.ravel(), bins = 256)    \n",
    "\n",
    "    mean_intensity = np.mean(all_avg_img)\n",
    "    std_intensity = np.std(all_avg_img)\n",
    "    print('Mean Intensity:', mean_intensity)\n",
    "    print('Std Deviation Intensity:', std_intensity)\n",
    "    dev_img = all_avg_img\n",
    "    dev_img = (dev_img - mean_intensity)/std_intensity    \n",
    "\n",
    "    plt.figure(figsize=(5,5))\n",
    "    plt.hist(dev_img.ravel(), bins = 256)    "
   ]
  },
  {
   "cell_type": "code",
   "execution_count": 51,
   "metadata": {},
   "outputs": [
    {
     "data": {
      "text/plain": [
       "[Text(0, 0.5, 'Number of Images with Label')]"
      ]
     },
     "execution_count": 51,
     "metadata": {},
     "output_type": "execute_result"
    },
    {
     "data": {
      "image/png": "[encoded data removed]",
      "text/plain": [
       "<Figure size 432x288 with 1 Axes>"
      ]
     },
     "metadata": {
      "needs_background": "light"
     },
     "output_type": "display_data"
    }
   ],
   "source": [
    "ax = sample_df[all_sample_labels].sum().plot(kind='bar')\n",
    "ax.set(ylabel = 'Number of Images with Label')"
   ]
  },
  {
   "cell_type": "markdown",
   "metadata": {},
   "source": [
    "Analyzing the top 4 diseases and pneumonia along with the \"No Finding\" label will help identify if intensity stands out."
   ]
  },
  {
   "cell_type": "code",
   "execution_count": 39,
   "metadata": {},
   "outputs": [
    {
     "name": "stdout",
     "output_type": "stream",
     "text": [
      "Total Images:  3044\n",
      "Mean Intensity: 129.19650772022044\n",
      "Std Deviation Intensity: 43.13135106581009\n"
     ]
    },
    {
     "data": {
      "image/png": "[encoded data removed]",
      "text/plain": [
       "<Figure size 360x360 with 1 Axes>"
      ]
     },
     "metadata": {
      "needs_background": "light"
     },
     "output_type": "display_data"
    },
    {
     "data": {
      "image/png": "[encoded data removed]",
      "text/plain": [
       "<Figure size 360x360 with 1 Axes>"
      ]
     },
     "metadata": {
      "needs_background": "light"
     },
     "output_type": "display_data"
    }
   ],
   "source": [
    "show_disease_intensity_charts('No Finding')"
   ]
  },
  {
   "cell_type": "code",
   "execution_count": 40,
   "metadata": {},
   "outputs": [
    {
     "name": "stdout",
     "output_type": "stream",
     "text": [
      "Total Images:  967\n",
      "Mean Intensity: 121.27387230941162\n",
      "Std Deviation Intensity: 42.853500686765145\n"
     ]
    },
    {
     "data": {
      "image/png": "[encoded data removed]",
      "text/plain": [
       "<Figure size 360x360 with 1 Axes>"
      ]
     },
     "metadata": {
      "needs_background": "light"
     },
     "output_type": "display_data"
    },
    {
     "data": {
      "image/png": "[encoded data removed]",
      "text/plain": [
       "<Figure size 360x360 with 1 Axes>"
      ]
     },
     "metadata": {
      "needs_background": "light"
     },
     "output_type": "display_data"
    }
   ],
   "source": [
    "show_disease_intensity_charts('Infiltration')"
   ]
  },
  {
   "cell_type": "code",
   "execution_count": 41,
   "metadata": {},
   "outputs": [
    {
     "name": "stdout",
     "output_type": "stream",
     "text": [
      "Total Images:  644\n",
      "Mean Intensity: 124.07889403171416\n",
      "Std Deviation Intensity: 45.51375972128822\n"
     ]
    },
    {
     "data": {
      "image/png": "[encoded data removed]",
      "text/plain": [
       "<Figure size 360x360 with 1 Axes>"
      ]
     },
     "metadata": {
      "needs_background": "light"
     },
     "output_type": "display_data"
    },
    {
     "data": {
      "image/png": "[encoded data removed]",
      "text/plain": [
       "<Figure size 360x360 with 1 Axes>"
      ]
     },
     "metadata": {
      "needs_background": "light"
     },
     "output_type": "display_data"
    }
   ],
   "source": [
    "show_disease_intensity_charts('Effusion')"
   ]
  },
  {
   "cell_type": "code",
   "execution_count": 42,
   "metadata": {},
   "outputs": [
    {
     "name": "stdout",
     "output_type": "stream",
     "text": [
      "Total Images:  508\n",
      "Mean Intensity: 128.0867545998941\n",
      "Std Deviation Intensity: 43.93821103728621\n"
     ]
    },
    {
     "data": {
      "image/png": "[encoded data removed]",
      "text/plain": [
       "<Figure size 360x360 with 1 Axes>"
      ]
     },
     "metadata": {
      "needs_background": "light"
     },
     "output_type": "display_data"
    },
    {
     "data": {
      "image/png": "[encoded data removed]",
      "text/plain": [
       "<Figure size 360x360 with 1 Axes>"
      ]
     },
     "metadata": {
      "needs_background": "light"
     },
     "output_type": "display_data"
    }
   ],
   "source": [
    "show_disease_intensity_charts('Atelectasis')"
   ]
  },
  {
   "cell_type": "code",
   "execution_count": 43,
   "metadata": {},
   "outputs": [
    {
     "name": "stdout",
     "output_type": "stream",
     "text": [
      "Total Images:  271\n",
      "Mean Intensity: 120.7820586630339\n",
      "Std Deviation Intensity: 43.40158859986373\n"
     ]
    },
    {
     "data": {
      "image/png": "[encoded data removed]",
      "text/plain": [
       "<Figure size 360x360 with 1 Axes>"
      ]
     },
     "metadata": {
      "needs_background": "light"
     },
     "output_type": "display_data"
    },
    {
     "data": {
      "image/png": "[encoded data removed]",
      "text/plain": [
       "<Figure size 360x360 with 1 Axes>"
      ]
     },
     "metadata": {
      "needs_background": "light"
     },
     "output_type": "display_data"
    }
   ],
   "source": [
    "show_disease_intensity_charts('Pneumothorax')"
   ]
  },
  {
   "cell_type": "code",
   "execution_count": 44,
   "metadata": {},
   "outputs": [
    {
     "name": "stdout",
     "output_type": "stream",
     "text": [
      "Total Images:  62\n",
      "Mean Intensity: 125.13923225095192\n",
      "Std Deviation Intensity: 42.70226101292348\n"
     ]
    },
    {
     "data": {
      "image/png": "[encoded data removed]",
      "text/plain": [
       "<Figure size 360x360 with 1 Axes>"
      ]
     },
     "metadata": {
      "needs_background": "light"
     },
     "output_type": "display_data"
    },
    {
     "data": {
      "image/png": "[encoded data removed]",
      "text/plain": [
       "<Figure size 360x360 with 1 Axes>"
      ]
     },
     "metadata": {
      "needs_background": "light"
     },
     "output_type": "display_data"
    }
   ],
   "source": [
    "show_disease_intensity_charts('Pneumonia')"
   ]
  },
  {
   "cell_type": "markdown",
   "metadata": {},
   "source": [
    "The intensities are far too close overall to make judgements across the entire x-ray image for differentiation of diseases. This makes some common sense as many diseases are only a small part of the overall image.\n",
    "\n",
    "There are some slight differences. For example around -1 std on pneumonia there is a quick drop off in intensity. While the 'No Findings' also has a drop off between -1 and 0 are far more nuanced structures than in the pneumonia aggregate data. This could be a way to differentiate pneumonia from a 'No Finding' analysis. The other obvious element here also is "
   ]
  },
  {
   "cell_type": "code",
   "execution_count": 35,
   "metadata": {},
   "outputs": [
    {
     "name": "stdout",
     "output_type": "stream",
     "text": [
      "Scans found: 112120 , Total Headers 112120\n"
     ]
    },
    {
     "data": {
      "text/html": [
       "<div>\n",
       "<style scoped>\n",
       "    .dataframe tbody tr th:only-of-type {\n",
       "        vertical-align: middle;\n",
       "    }\n",
       "\n",
       "    .dataframe tbody tr th {\n",
       "        vertical-align: top;\n",
       "    }\n",
       "\n",
       "    .dataframe thead th {\n",
       "        text-align: right;\n",
       "    }\n",
       "</style>\n",
       "<table border=\"1\" class=\"dataframe\">\n",
       "  <thead>\n",
       "    <tr style=\"text-align: right;\">\n",
       "      <th></th>\n",
       "      <th>Image Index</th>\n",
       "      <th>Finding Labels</th>\n",
       "      <th>Follow-up #</th>\n",
       "      <th>Patient ID</th>\n",
       "      <th>Patient Age</th>\n",
       "      <th>Patient Gender</th>\n",
       "      <th>View Position</th>\n",
       "      <th>OriginalImage[Width</th>\n",
       "      <th>Height]</th>\n",
       "      <th>OriginalImagePixelSpacing[x</th>\n",
       "      <th>y]</th>\n",
       "      <th>Unnamed: 11</th>\n",
       "      <th>path</th>\n",
       "    </tr>\n",
       "  </thead>\n",
       "  <tbody>\n",
       "    <tr>\n",
       "      <th>24805</th>\n",
       "      <td>00006517_004.png</td>\n",
       "      <td>Consolidation</td>\n",
       "      <td>4</td>\n",
       "      <td>6517</td>\n",
       "      <td>45</td>\n",
       "      <td>F</td>\n",
       "      <td>AP</td>\n",
       "      <td>2500</td>\n",
       "      <td>2048</td>\n",
       "      <td>0</td>\n",
       "      <td>0</td>\n",
       "      <td>nan</td>\n",
       "      <td>/data/images_003/images/00006517_004.png</td>\n",
       "    </tr>\n",
       "    <tr>\n",
       "      <th>36704</th>\n",
       "      <td>00009665_002.png</td>\n",
       "      <td>No Finding</td>\n",
       "      <td>2</td>\n",
       "      <td>9665</td>\n",
       "      <td>71</td>\n",
       "      <td>M</td>\n",
       "      <td>AP</td>\n",
       "      <td>2500</td>\n",
       "      <td>2048</td>\n",
       "      <td>0</td>\n",
       "      <td>0</td>\n",
       "      <td>nan</td>\n",
       "      <td>/data/images_005/images/00009665_002.png</td>\n",
       "    </tr>\n",
       "    <tr>\n",
       "      <th>18389</th>\n",
       "      <td>00004893_043.png</td>\n",
       "      <td>Atelectasis</td>\n",
       "      <td>43</td>\n",
       "      <td>4893</td>\n",
       "      <td>31</td>\n",
       "      <td>M</td>\n",
       "      <td>PA</td>\n",
       "      <td>2992</td>\n",
       "      <td>2991</td>\n",
       "      <td>0</td>\n",
       "      <td>0</td>\n",
       "      <td>nan</td>\n",
       "      <td>/data/images_003/images/00004893_043.png</td>\n",
       "    </tr>\n",
       "  </tbody>\n",
       "</table>\n",
       "</div>"
      ],
      "text/plain": [
       "            Image Index Finding Labels  Follow-up #  Patient ID  Patient Age  \\\n",
       "24805  00006517_004.png  Consolidation            4        6517           45   \n",
       "36704  00009665_002.png     No Finding            2        9665           71   \n",
       "18389  00004893_043.png    Atelectasis           43        4893           31   \n",
       "\n",
       "      Patient Gender View Position  OriginalImage[Width  Height]  \\\n",
       "24805              F            AP                 2500     2048   \n",
       "36704              M            AP                 2500     2048   \n",
       "18389              M            PA                 2992     2991   \n",
       "\n",
       "       OriginalImagePixelSpacing[x  y]  Unnamed: 11  \\\n",
       "24805                            0   0          nan   \n",
       "36704                            0   0          nan   \n",
       "18389                            0   0          nan   \n",
       "\n",
       "                                           path  \n",
       "24805  /data/images_003/images/00006517_004.png  \n",
       "36704  /data/images_005/images/00009665_002.png  \n",
       "18389  /data/images_003/images/00004893_043.png  "
      ]
     },
     "execution_count": 35,
     "metadata": {},
     "output_type": "execute_result"
    }
   ],
   "source": [
    "all_xray_df = pd.read_csv('/data/Data_Entry_2017.csv')\n",
    "all_image_paths = {os.path.basename(x): x for x in \n",
    "                   glob(os.path.join('/data','images*', '*', '*.png'))}\n",
    "print('Scans found:', len(all_image_paths), ', Total Headers', all_xray_df.shape[0])\n",
    "all_xray_df['path'] = all_xray_df['Image Index'].map(all_image_paths.get)\n",
    "all_xray_df.sample(3)"
   ]
  },
  {
   "cell_type": "markdown",
   "metadata": {},
   "source": [
    "of the imaging data for healthy & disease states of interest (e.g. histograms of intensity values) and compare distributions across diseases."
   ]
  }
 ],
 "metadata": {
  "kernelspec": {
   "display_name": "Python 3",
   "language": "python",
   "name": "python3"
  },
  "language_info": {
   "codemirror_mode": {
    "name": "ipython",
    "version": 3
   },
   "file_extension": ".py",
   "mimetype": "text/x-python",
   "name": "python",
   "nbconvert_exporter": "python",
   "pygments_lexer": "ipython3",
   "version": "3.7.6"
  }
 },
 "nbformat": 4,
 "nbformat_minor": 2
}
